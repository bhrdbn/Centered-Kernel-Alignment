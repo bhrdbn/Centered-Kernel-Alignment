{
  "metadata": {
    "kernelspec": {
      "display_name": "Python 3",
      "name": "python3"
    },
    "language_info": {
      "name": "python",
      "version": "3.10.12",
      "mimetype": "text/x-python",
      "codemirror_mode": {
        "name": "ipython",
        "version": 3
      },
      "pygments_lexer": "ipython3",
      "nbconvert_exporter": "python",
      "file_extension": ".py"
    },
    "colab": {
      "provenance": [],
      "gpuType": "T4"
    },
    "accelerator": "GPU"
  },
  "nbformat_minor": 2,
  "nbformat": 4,
  "cells": [
    {
      "cell_type": "markdown",
      "source": [
        "##Model"
      ],
      "metadata": {
        "id": "S6c6xgnv7Qs0"
      }
    },
    {
      "cell_type": "code",
      "execution_count": null,
      "source": [
        "import torch\r\n",
        "import torch.nn as nn\r\n",
        "\r\n",
        "class Tiny10(nn.Module):\r\n",
        "    def __init__(self, num_classes=10):\r\n",
        "        super(Tiny10, self).__init__()\r\n",
        "        self.features = nn.Sequential(\r\n",
        "            nn.Conv2d(3, 16, kernel_size=3, stride=1, padding=0),\r\n",
        "            nn.BatchNorm2d(16),\r\n",
        "            nn.ReLU(inplace=True),\r\n",
        "            nn.Conv2d(16, 16, kernel_size=3, stride=1, padding=0),\r\n",
        "            nn.BatchNorm2d(16),\r\n",
        "            nn.ReLU(inplace=True),\r\n",
        "            nn.Conv2d(16, 32, kernel_size=3, stride=1, padding=0),\r\n",
        "            nn.BatchNorm2d(32),\r\n",
        "            nn.ReLU(inplace=True),\r\n",
        "            nn.Conv2d(32, 32, kernel_size=3, stride=1, padding=0),\r\n",
        "            nn.BatchNorm2d(32),\r\n",
        "            nn.ReLU(inplace=True),\r\n",
        "            nn.Conv2d(32, 32, kernel_size=3, stride=1, padding=0),\r\n",
        "            nn.BatchNorm2d(32),\r\n",
        "            nn.ReLU(inplace=True),\r\n",
        "            nn.Conv2d(32, 64, kernel_size=3, stride=1, padding=0),\r\n",
        "            nn.BatchNorm2d(64),\r\n",
        "            nn.ReLU(inplace=True),\r\n",
        "            nn.Conv2d(64, 64, kernel_size=3, stride=1, padding=0),\r\n",
        "            nn.BatchNorm2d(64),\r\n",
        "            nn.ReLU(inplace=True),\r\n",
        "            nn.Conv2d(64, 64, kernel_size=1, stride=1),\r\n",
        "            nn.BatchNorm2d(64),\r\n",
        "            nn.ReLU(inplace=True)\r\n",
        "        )\r\n",
        "        self.avgpool = nn.AdaptiveAvgPool2d((1, 1))\r\n",
        "        self.classifier = nn.Linear(64, num_classes)\r\n",
        "\r\n",
        "    def forward(self, x):\r\n",
        "        x = self.features(x)\r\n",
        "        x = self.avgpool(x)\r\n",
        "        x = torch.flatten(x, 1)\r\n",
        "        x = self.classifier(x)\r\n",
        "        return x\r\n",
        "\r\n"
      ],
      "outputs": [],
      "metadata": {
        "execution": {
          "iopub.status.busy": "2023-07-16T11:30:55.830053Z",
          "iopub.execute_input": "2023-07-16T11:30:55.830449Z",
          "iopub.status.idle": "2023-07-16T11:30:55.843178Z",
          "shell.execute_reply.started": "2023-07-16T11:30:55.830417Z",
          "shell.execute_reply": "2023-07-16T11:30:55.841900Z"
        },
        "trusted": true,
        "id": "IXUCQcXaf0lB"
      }
    },
    {
      "cell_type": "code",
      "execution_count": null,
      "source": [
        "if torch.cuda.is_available():\r\n",
        "     torch.set_default_tensor_type(torch.cuda.FloatTensor)\r\n",
        "     print('yes')"
      ],
      "outputs": [
        {
          "output_type": "stream",
          "name": "stdout",
          "text": [
            "yes\n"
          ]
        }
      ],
      "metadata": {
        "colab": {
          "base_uri": "https://localhost:8080/"
        },
        "id": "Srlk1JvGJLKq",
        "outputId": "ee2cd4f3-3a96-4ebc-f630-0a00f83acb65"
      }
    },
    {
      "cell_type": "markdown",
      "source": [
        "##Train and Test"
      ],
      "metadata": {
        "id": "cBBIV8I77dcV"
      }
    },
    {
      "cell_type": "code",
      "execution_count": null,
      "source": [
        "import torch\r\n",
        "import torch.nn as nn\r\n",
        "import torch.optim as optim\r\n",
        "import torchvision\r\n",
        "import torchvision.transforms as transforms\r\n",
        "from torchvision.models import resnet18\r\n",
        "\r\n",
        "device = torch.device(\"cuda\" if torch.cuda.is_available() else \"cpu\")\r\n",
        "\r\n",
        "transform_train = transforms.Compose([\r\n",
        "    transforms.RandomCrop(32, padding=4),\r\n",
        "    transforms.RandomHorizontalFlip(),\r\n",
        "    transforms.ToTensor()\r\n",
        "])\r\n",
        "\r\n",
        "transform_test = transforms.Compose([\r\n",
        "    transforms.ToTensor()\r\n",
        "])\r\n",
        "\r\n",
        "trainset = torchvision.datasets.CIFAR10(root='./data', train=True, download=True, transform=transform_train)\r\n",
        "trainloader = torch.utils.data.DataLoader(trainset, batch_size=128, shuffle=True, num_workers=0,  generator=torch.Generator(device='cuda'),)\r\n",
        "\r\n",
        "testset = torchvision.datasets.CIFAR10(root='./data', train=False, download=True, transform=transform_test)\r\n",
        "testloader = torch.utils.data.DataLoader(testset, batch_size=100, shuffle=False, num_workers=0,  generator=torch.Generator(device='cuda'),)\r\n",
        "\r\n",
        "model = Tiny10().to(device)\r\n",
        "\r\n",
        "criterion = nn.CrossEntropyLoss()\r\n",
        "optimizer = optim.Adam(model.parameters(), lr=0.001)\r\n",
        "# TODO: cosine scheduler for lr\r\n",
        "num_epochs = 20\r\n",
        "\r\n",
        "for epoch in range(num_epochs):\r\n",
        "    model.train()  # Set model to training mode\r\n",
        "\r\n",
        "    running_loss = 0.0\r\n",
        "\r\n",
        "    for i, data in enumerate(trainloader):\r\n",
        "        inputs, labels = data[0].to(device), data[1].to(device)\r\n",
        "\r\n",
        "        optimizer.zero_grad()\r\n",
        "\r\n",
        "        outputs = model(inputs)\r\n",
        "        loss = criterion(outputs, labels)\r\n",
        "        loss.backward()\r\n",
        "        optimizer.step()\r\n",
        "\r\n",
        "        running_loss += loss.item()\r\n",
        "\r\n",
        "        if i % 100 == 99:\r\n",
        "            print(f\"[Epoch {epoch + 1}, Batch {i + 1}] Loss: {running_loss / 100:.3f}\")\r\n",
        "            running_loss = 0.0\r\n",
        "\r\n",
        "    # Validation\r\n",
        "    model.eval()  # Set model to evaluation mode\r\n",
        "\r\n",
        "    total_correct = 0\r\n",
        "    total_samples = 0\r\n",
        "\r\n",
        "    with torch.no_grad():\r\n",
        "        for data in testloader:\r\n",
        "            images, labels = data[0].to(device), data[1].to(device)\r\n",
        "            outputs = model(images)\r\n",
        "            _, predicted = torch.max(outputs.data, 1)\r\n",
        "            total_samples += labels.size(0)\r\n",
        "            total_correct += (predicted == labels).sum().item()\r\n",
        "\r\n",
        "    accuracy_teacher = 100 * total_correct / total_samples\r\n",
        "    print(f\"Accuracy on the test set: {accuracy_teacher:.2f}%\")\r\n",
        "\r\n",
        "# End of training loop\r\n"
      ],
      "outputs": [
        {
          "output_type": "stream",
          "name": "stdout",
          "text": [
            "Downloading https://www.cs.toronto.edu/~kriz/cifar-10-python.tar.gz to ./data/cifar-10-python.tar.gz\n"
          ]
        },
        {
          "output_type": "stream",
          "name": "stderr",
          "text": [
            "100%|██████████| 170498071/170498071 [00:14<00:00, 11730859.17it/s]\n"
          ]
        },
        {
          "output_type": "stream",
          "name": "stdout",
          "text": [
            "Extracting ./data/cifar-10-python.tar.gz to ./data\n",
            "Files already downloaded and verified\n",
            "[Epoch 1, Batch 100] Loss: 1.862\n",
            "[Epoch 1, Batch 200] Loss: 1.595\n",
            "[Epoch 1, Batch 300] Loss: 1.430\n",
            "Accuracy on the test set: 52.06%\n",
            "[Epoch 2, Batch 100] Loss: 1.245\n",
            "[Epoch 2, Batch 200] Loss: 1.196\n",
            "[Epoch 2, Batch 300] Loss: 1.148\n",
            "Accuracy on the test set: 58.41%\n",
            "[Epoch 3, Batch 100] Loss: 1.084\n",
            "[Epoch 3, Batch 200] Loss: 1.067\n",
            "[Epoch 3, Batch 300] Loss: 1.031\n",
            "Accuracy on the test set: 60.53%\n",
            "[Epoch 4, Batch 100] Loss: 0.989\n",
            "[Epoch 4, Batch 200] Loss: 0.979\n",
            "[Epoch 4, Batch 300] Loss: 0.957\n",
            "Accuracy on the test set: 64.81%\n",
            "[Epoch 5, Batch 100] Loss: 0.930\n",
            "[Epoch 5, Batch 200] Loss: 0.925\n",
            "[Epoch 5, Batch 300] Loss: 0.891\n",
            "Accuracy on the test set: 65.86%\n",
            "[Epoch 6, Batch 100] Loss: 0.865\n",
            "[Epoch 6, Batch 200] Loss: 0.866\n",
            "[Epoch 6, Batch 300] Loss: 0.856\n",
            "Accuracy on the test set: 68.29%\n",
            "[Epoch 7, Batch 100] Loss: 0.836\n",
            "[Epoch 7, Batch 200] Loss: 0.819\n",
            "[Epoch 7, Batch 300] Loss: 0.805\n",
            "Accuracy on the test set: 68.63%\n",
            "[Epoch 8, Batch 100] Loss: 0.784\n",
            "[Epoch 8, Batch 200] Loss: 0.770\n",
            "[Epoch 8, Batch 300] Loss: 0.794\n",
            "Accuracy on the test set: 71.95%\n",
            "[Epoch 9, Batch 100] Loss: 0.758\n",
            "[Epoch 9, Batch 200] Loss: 0.763\n",
            "[Epoch 9, Batch 300] Loss: 0.760\n",
            "Accuracy on the test set: 66.72%\n",
            "[Epoch 10, Batch 100] Loss: 0.734\n",
            "[Epoch 10, Batch 200] Loss: 0.736\n",
            "[Epoch 10, Batch 300] Loss: 0.737\n",
            "Accuracy on the test set: 69.12%\n",
            "[Epoch 11, Batch 100] Loss: 0.708\n",
            "[Epoch 11, Batch 200] Loss: 0.717\n",
            "[Epoch 11, Batch 300] Loss: 0.718\n",
            "Accuracy on the test set: 74.34%\n",
            "[Epoch 12, Batch 100] Loss: 0.690\n",
            "[Epoch 12, Batch 200] Loss: 0.693\n",
            "[Epoch 12, Batch 300] Loss: 0.692\n",
            "Accuracy on the test set: 73.17%\n",
            "[Epoch 13, Batch 100] Loss: 0.664\n",
            "[Epoch 13, Batch 200] Loss: 0.665\n",
            "[Epoch 13, Batch 300] Loss: 0.671\n",
            "Accuracy on the test set: 75.25%\n",
            "[Epoch 14, Batch 100] Loss: 0.655\n",
            "[Epoch 14, Batch 200] Loss: 0.659\n",
            "[Epoch 14, Batch 300] Loss: 0.658\n",
            "Accuracy on the test set: 76.00%\n",
            "[Epoch 15, Batch 100] Loss: 0.630\n",
            "[Epoch 15, Batch 200] Loss: 0.641\n",
            "[Epoch 15, Batch 300] Loss: 0.647\n",
            "Accuracy on the test set: 74.51%\n",
            "[Epoch 16, Batch 100] Loss: 0.634\n",
            "[Epoch 16, Batch 200] Loss: 0.626\n",
            "[Epoch 16, Batch 300] Loss: 0.638\n",
            "Accuracy on the test set: 74.68%\n",
            "[Epoch 17, Batch 100] Loss: 0.599\n",
            "[Epoch 17, Batch 200] Loss: 0.625\n",
            "[Epoch 17, Batch 300] Loss: 0.631\n",
            "Accuracy on the test set: 77.61%\n",
            "[Epoch 18, Batch 100] Loss: 0.583\n",
            "[Epoch 18, Batch 200] Loss: 0.614\n",
            "[Epoch 18, Batch 300] Loss: 0.614\n",
            "Accuracy on the test set: 74.88%\n",
            "[Epoch 19, Batch 100] Loss: 0.591\n",
            "[Epoch 19, Batch 200] Loss: 0.613\n",
            "[Epoch 19, Batch 300] Loss: 0.590\n",
            "Accuracy on the test set: 76.94%\n",
            "[Epoch 20, Batch 100] Loss: 0.582\n",
            "[Epoch 20, Batch 200] Loss: 0.582\n",
            "[Epoch 20, Batch 300] Loss: 0.577\n",
            "Accuracy on the test set: 76.18%\n"
          ]
        }
      ],
      "metadata": {
        "colab": {
          "base_uri": "https://localhost:8080/"
        },
        "id": "y1TNjq3YAUbs",
        "outputId": "fbc2ad2a-4400-4e24-a712-599bffdba807"
      }
    },
    {
      "cell_type": "markdown",
      "source": [
        "##CKA"
      ],
      "metadata": {}
    },
    {
      "cell_type": "code",
      "execution_count": null,
      "source": [
        "def unbiased_HSIC(K, L):\r\n",
        "  \r\n",
        "  n = K.shape[0]\r\n",
        "  ones = torch.ones((n,1))\r\n",
        "\r\n",
        "  k_t = K.fill_diagonal_(0) \r\n",
        "  l_t = L.fill_diagonal_(0) \r\n",
        "  temp = torch.matmul(k_t.clone(), l_t.clone())\r\n",
        "\r\n",
        "  trace = torch.trace(temp)\r\n",
        "\r\n",
        "  nominator1 = torch.matmul(torch.matmul(torch.reshape(ones,(1,-1)), k_t), ones)\r\n",
        "\r\n",
        "  nominator2 = torch.matmul(torch.matmul(torch.reshape(ones,(1,-1)), l_t), ones)\r\n",
        "\r\n",
        "  denominator = (n-1)*(n-2)\r\n",
        "  middle = torch.matmul(nominator1, nominator2) / denominator\r\n",
        "\r\n",
        "\r\n",
        "  multiplier1 = 2/(n-2)\r\n",
        "  multiplier2 = torch.matmul(torch.matmul(torch.reshape(ones,(1,-1)), temp),  ones)\r\n",
        "  last = multiplier1 * multiplier2\r\n",
        "\r\n",
        "  unbiased_hsic = 1/(n*(n-3)) * (trace + middle - last)\r\n",
        "\r\n",
        "  return unbiased_hsic"
      ],
      "outputs": [],
      "metadata": {
        "id": "llVrjSb4RtJk"
      }
    },
    {
      "cell_type": "markdown",
      "source": [
        "Implement CKA for both RBF and Linear Kernels"
      ],
      "metadata": {}
    },
    {
      "cell_type": "code",
      "execution_count": null,
      "source": [
        "def CKA_unbiased(X, Y, f = None):\r\n",
        "\r\n",
        "  \r\n",
        "  #Linear Kernel\r\n",
        "  X_t = torch.transpose(X,0,1)\r\n",
        "  Y_t = torch.transpose(Y,0,1)\r\n",
        "  X_gram = torch.matmul(X, X_t)\r\n",
        "  Y_gram = torch.matmul(Y, Y_t)\r\n",
        "\r\n",
        "  nominator = unbiased_HSIC(X_gram, Y_gram)\r\n",
        "  denominator1 = unbiased_HSIC(X_gram, X_gram)\r\n",
        "  denominator2 = unbiased_HSIC(Y_gram, Y_gram)\r\n",
        "\r\n",
        "  # RBF kernel\r\n",
        "\r\n",
        "  # dist_x = torch.pow(torch.cdist(X, X, p=2), 2)\r\n",
        "  # dist_y = torch.pow(torch.cdist(Y, Y, p=2), 2)\r\n",
        "  # m_x = torch.median(dist_x)\r\n",
        "  # m_y = torch.median(dist_y)\r\n",
        "  # k = torch.exp(-dist_x/(2*m_x*f*f))\r\n",
        "  # l = torch.exp(-dist_y/(2*m_y*f*f))\r\n",
        "  # nominator = unbiased_HSIC(k, l)\r\n",
        "  # denominator1 = unbiased_HSIC(k, k)\r\n",
        "  # denominator2 = unbiased_HSIC(l, l)\r\n",
        "\r\n",
        "\r\n",
        "\r\n",
        "\r\n",
        "\r\n",
        "\r\n",
        "  return nominator, denominator1, denominator2"
      ],
      "outputs": [],
      "metadata": {
        "id": "PzJk_HhLRuRP"
      }
    },
    {
      "cell_type": "code",
      "execution_count": null,
      "source": [
        "def calculate_CKA_for_two_matrices(activationA, activationB):\r\n",
        "\r\n",
        " \r\n",
        "  #unfold the activations, that is make a (n, h*w*c) representation\r\n",
        "  shape = activationA.shape\r\n",
        "  if len(shape)<4:\r\n",
        "     activationA = torch.reshape(activationA, (shape[0], shape[1]))\r\n",
        "  else:\r\n",
        "     activationA = torch.reshape(activationA, (shape[0], shape[1]*shape[2]*shape[3]))\r\n",
        "\r\n",
        "  shape = activationB.shape\r\n",
        "  if len(shape)<4:\r\n",
        "     activationB = torch.reshape(activationB, (shape[0], shape[1]))\r\n",
        "  else:\r\n",
        "     activationB = torch.reshape(activationB, (shape[0], shape[1]*shape[2]*shape[3]))\r\n",
        "\r\n",
        "  #calculate the CKA score\r\n",
        "  cka_score = CKA_unbiased(activationA, activationB)\r\n",
        "\r\n",
        "  return cka_score"
      ],
      "outputs": [],
      "metadata": {
        "id": "Ft08TaSAR6YR"
      }
    },
    {
      "cell_type": "code",
      "execution_count": null,
      "source": [
        "activation = {}\r\n",
        "def get_activation(name):\r\n",
        "    global activation\r\n",
        "    def hook(model, input, output):\r\n",
        "           \r\n",
        "            activation[name] = output\r\n",
        "\r\n",
        "\r\n",
        "    return hook\r\n",
        "\r\n",
        "\r\n",
        "\r\n",
        "\r\n",
        "def get_all_layer_outputs_fn(model):\r\n",
        "    global activation\r\n",
        "    names = ['features.0','features.3','features.6','features.9','features.12','features.15','features.18', 'classifier']\r\n",
        "    for name, module in model.named_modules():\r\n",
        "        if name in names:\r\n",
        "            module.register_forward_hook(get_activation(name))\r\n",
        "\r\n",
        "\r\n"
      ],
      "outputs": [],
      "metadata": {
        "id": "BmTNH5muR-4F"
      }
    },
    {
      "cell_type": "code",
      "execution_count": null,
      "source": [
        "def compare_activations_batch(intermediate_outputs):\r\n",
        " \r\n",
        "  for i in range(len(intermediate_outputs)):\r\n",
        "        for j in range(len(intermediate_outputs)):\r\n",
        "            cka_score = calculate_CKA_for_two_matrices(intermediate_outputs[i], intermediate_outputs[j])\r\n",
        "            result_array[i, j] = cka_score[0]/torch.sqrt(cka_score[1]*cka_score[2])\r\n",
        "  return result_array\r\n"
      ],
      "outputs": [],
      "metadata": {
        "id": "uIOgA9jVUSuY"
      }
    },
    {
      "cell_type": "code",
      "execution_count": null,
      "source": [
        "import matplotlib.pyplot as plt\r\n",
        "def cka_plt(mat, name):\r\n",
        "  plt.figure(figsize=(2, 2), dpi=200)\r\n",
        "  axes = plt.imshow(mat.cpu().numpy(), cmap='magma', vmin=0.0,vmax=1.0)\r\n",
        "  axes.axes.invert_yaxis()\r\n",
        "  plt.savefig(f\"/content/{name}.png\", dpi=400)\r\n",
        "\r\n"
      ],
      "outputs": [],
      "metadata": {
        "id": "S95L19u7dcq1"
      }
    },
    {
      "cell_type": "markdown",
      "source": [
        "##CKA Engineering "
      ],
      "metadata": {}
    },
    {
      "cell_type": "markdown",
      "source": [
        "Train a new model having similar pattern with pre-defined pattern"
      ],
      "metadata": {}
    },
    {
      "cell_type": "code",
      "execution_count": null,
      "source": [
        "\r\n",
        "#CKA Engineering\r\n",
        "\r\n",
        "import torch\r\n",
        "import torch.nn as nn\r\n",
        "import torch.optim as optim\r\n",
        "import torchvision\r\n",
        "import torchvision.transforms as transforms\r\n",
        "from torchvision.models import resnet18\r\n",
        "from copy import deepcopy\r\n",
        "\r\n",
        "\r\n",
        "with torch.no_grad():\r\n",
        "    teacher_activation = get_all_layer_outputs_fn(model)\r\n",
        "    model(next(iter(trainloader))[0].to(device))\r\n",
        "    cka_plt(compare_activations_batch(list(activation.values())),'teacher')\r\n",
        "\r\n",
        "\r\n",
        "\r\n",
        "student_model = Tiny10().to(device)\r\n",
        "student_model.load_state_dict(deepcopy(model.state_dict()))\r\n",
        "\r\n",
        "criterion = nn.CrossEntropyLoss()\r\n",
        "optimizer = optim.Adam(student_model.parameters(), lr=0.01)\r\n",
        "\r\n",
        "num_epochs = 10 \r\n",
        "l = 1\r\n",
        "etha = 0.8\r\n",
        "threshold = 4\r\n",
        "targetmap = torch.tensor([ [1,1,0,0,1,1,0,0],\r\n",
        "                           [1,1,1,0,0,1,1,0],\r\n",
        "                           [0,1,1,1,0,0,1,1],\r\n",
        "                           [0,0,1,1,1,0,0,1],\r\n",
        "                           [1,0,0,1,1,1,0,0],\r\n",
        "                           [1,1,0,0,1,1,1,0],\r\n",
        "                           [0,1,1,0,0,1,1,1],\r\n",
        "                           [0,0,1,1,0,0,1,1]])\r\n",
        "cka_plt(targetmap, 'target')\r\n",
        "\r\n",
        "\r\n",
        "\r\n",
        "def set_lambda(etha, acc_teacher, acc_student, l, threshold):\r\n",
        "  d = acc_teacher - acc_student\r\n",
        "  return etha * l if d > threshold else l/etha\r\n",
        "\r\n",
        "for epoch in range(num_epochs):\r\n",
        "    student_model.train()\r\n",
        "    running_loss = 0.0\r\n",
        "\r\n",
        "    for i, data in enumerate(trainloader, 0):\r\n",
        "        inputs, labels = data[0].to(device), data[1].to(device)\r\n",
        "\r\n",
        "        optimizer.zero_grad()\r\n",
        "\r\n",
        "       \r\n",
        "        get_all_layer_outputs_fn(student_model)\r\n",
        "\r\n",
        "        student_outputs = student_model(inputs)\r\n",
        "        student_layers = list(activation.values())\r\n",
        "\r\n",
        "       \r\n",
        "        classification_loss = criterion(student_outputs, labels)\r\n",
        "\r\n",
        "\r\n",
        "        ckamap = compare_activations_batch(student_layers)\r\n",
        "        map_loss = torch.sum(torch.log(torch.cosh(ckamap - targetmap)))\r\n",
        "\r\n",
        "\r\n",
        "        # Total loss as a combination of distillation and classification losses\r\n",
        "        loss = l * map_loss + classification_loss\r\n",
        "\r\n",
        "        loss.backward()\r\n",
        "        optimizer.step()\r\n",
        "\r\n",
        "        running_loss += loss.item()\r\n",
        "\r\n",
        "        if i % 100 == 99:\r\n",
        "            print(f\"[Epoch {epoch + 1}, Batch {i + 1}] Loss: {running_loss / 100:.3f}\")\r\n",
        "\r\n",
        "\r\n",
        "            running_loss = 0.0\r\n",
        "\r\n",
        "    student_model.eval()  \r\n",
        "    total_correct = 0\r\n",
        "    total_samples = 0\r\n",
        "\r\n",
        "    with torch.no_grad():\r\n",
        "        for data in testloader:\r\n",
        "            images, labels = data[0].to(device), data[1].to(device)\r\n",
        "            outputs = student_model(images)\r\n",
        "            _, predicted = torch.max(outputs.data, 1)\r\n",
        "            total_samples += labels.size(0)\r\n",
        "            total_correct += (predicted == labels).sum().item()\r\n",
        "        cka_plt(ckamap.clone(), str(epoch+1)+':'+str(i))\r\n",
        "\r\n",
        "    accuracy = 100 * total_correct / total_samples\r\n",
        "\r\n",
        "    print(f\"Accuracy on the test set: {accuracy:.2f}%\")\r\n",
        "\r\n"
      ],
      "outputs": [
        {
          "output_type": "stream",
          "name": "stdout",
          "text": [
            "[Epoch 1, Batch 100] Loss: 4.124\n",
            "[Epoch 1, Batch 200] Loss: 3.277\n",
            "[Epoch 1, Batch 300] Loss: 3.042\n",
            "Accuracy on the test set: 30.32%\n",
            "[Epoch 2, Batch 100] Loss: 2.873\n",
            "[Epoch 2, Batch 200] Loss: 2.826\n",
            "[Epoch 2, Batch 300] Loss: 2.803\n",
            "Accuracy on the test set: 59.52%\n",
            "[Epoch 3, Batch 100] Loss: 2.733\n",
            "[Epoch 3, Batch 200] Loss: 2.701\n",
            "[Epoch 3, Batch 300] Loss: 2.695\n",
            "Accuracy on the test set: 63.23%\n",
            "[Epoch 4, Batch 100] Loss: 2.649\n",
            "[Epoch 4, Batch 200] Loss: 2.637\n",
            "[Epoch 4, Batch 300] Loss: 2.648\n",
            "Accuracy on the test set: 66.15%\n",
            "[Epoch 5, Batch 100] Loss: 2.537\n",
            "[Epoch 5, Batch 200] Loss: 2.618\n",
            "[Epoch 5, Batch 300] Loss: 2.569\n",
            "Accuracy on the test set: 63.52%\n",
            "[Epoch 6, Batch 100] Loss: 2.559\n",
            "[Epoch 6, Batch 200] Loss: 2.523\n",
            "[Epoch 6, Batch 300] Loss: 2.545\n",
            "Accuracy on the test set: 67.02%\n",
            "[Epoch 7, Batch 100] Loss: 2.511\n",
            "[Epoch 7, Batch 200] Loss: 2.510\n",
            "[Epoch 7, Batch 300] Loss: 2.462\n",
            "Accuracy on the test set: 70.49%\n",
            "[Epoch 8, Batch 100] Loss: 2.460\n",
            "[Epoch 8, Batch 200] Loss: 2.543\n",
            "[Epoch 8, Batch 300] Loss: 2.494\n",
            "Accuracy on the test set: 69.29%\n",
            "[Epoch 9, Batch 100] Loss: 2.459\n",
            "[Epoch 9, Batch 200] Loss: 2.457\n",
            "[Epoch 9, Batch 300] Loss: 2.441\n",
            "Accuracy on the test set: 70.13%\n",
            "[Epoch 10, Batch 100] Loss: 2.428\n",
            "[Epoch 10, Batch 200] Loss: 2.404\n",
            "[Epoch 10, Batch 300] Loss: 2.433\n",
            "Accuracy on the test set: 71.81%\n",
            "[Epoch 11, Batch 100] Loss: 2.407\n",
            "[Epoch 11, Batch 200] Loss: 2.416\n",
            "[Epoch 11, Batch 300] Loss: 2.373\n",
            "Accuracy on the test set: 71.14%\n",
            "[Epoch 12, Batch 100] Loss: 2.364\n",
            "[Epoch 12, Batch 200] Loss: 2.377\n",
            "[Epoch 12, Batch 300] Loss: 2.404\n",
            "Accuracy on the test set: 73.67%\n"
          ]
        },
        {
          "output_type": "error",
          "ename": "KeyboardInterrupt",
          "evalue": "ignored",
          "traceback": [
            "\u001b[0;31m---------------------------------------------------------------------------\u001b[0m",
            "\u001b[0;31mKeyboardInterrupt\u001b[0m                         Traceback (most recent call last)",
            "\u001b[0;32m<ipython-input-10-db8160740579>\u001b[0m in \u001b[0;36m<cell line: 50>\u001b[0;34m()\u001b[0m\n\u001b[1;32m     72\u001b[0m \u001b[0;34m\u001b[0m\u001b[0m\n\u001b[1;32m     73\u001b[0m \u001b[0;34m\u001b[0m\u001b[0m\n\u001b[0;32m---> 74\u001b[0;31m         \u001b[0mckamap\u001b[0m \u001b[0;34m=\u001b[0m \u001b[0mcompare_activations_batch\u001b[0m\u001b[0;34m(\u001b[0m\u001b[0mstudent_layers\u001b[0m\u001b[0;34m)\u001b[0m\u001b[0;34m\u001b[0m\u001b[0;34m\u001b[0m\u001b[0m\n\u001b[0m\u001b[1;32m     75\u001b[0m         \u001b[0mmap_loss\u001b[0m \u001b[0;34m=\u001b[0m \u001b[0mtorch\u001b[0m\u001b[0;34m.\u001b[0m\u001b[0msum\u001b[0m\u001b[0;34m(\u001b[0m\u001b[0mtorch\u001b[0m\u001b[0;34m.\u001b[0m\u001b[0mlog\u001b[0m\u001b[0;34m(\u001b[0m\u001b[0mtorch\u001b[0m\u001b[0;34m.\u001b[0m\u001b[0mcosh\u001b[0m\u001b[0;34m(\u001b[0m\u001b[0mckamap\u001b[0m \u001b[0;34m-\u001b[0m \u001b[0mtargetmap\u001b[0m\u001b[0;34m)\u001b[0m\u001b[0;34m)\u001b[0m\u001b[0;34m)\u001b[0m\u001b[0;34m\u001b[0m\u001b[0;34m\u001b[0m\u001b[0m\n\u001b[1;32m     76\u001b[0m \u001b[0;34m\u001b[0m\u001b[0m\n",
            "\u001b[0;32m<ipython-input-8-8eb0e790dd17>\u001b[0m in \u001b[0;36mcompare_activations_batch\u001b[0;34m(intermediate_outputs)\u001b[0m\n\u001b[1;32m      6\u001b[0m   \u001b[0;32mfor\u001b[0m \u001b[0mi\u001b[0m \u001b[0;32min\u001b[0m \u001b[0mrange\u001b[0m\u001b[0;34m(\u001b[0m\u001b[0mlen\u001b[0m\u001b[0;34m(\u001b[0m\u001b[0mintermediate_outputs\u001b[0m\u001b[0;34m)\u001b[0m\u001b[0;34m)\u001b[0m\u001b[0;34m:\u001b[0m\u001b[0;34m\u001b[0m\u001b[0;34m\u001b[0m\u001b[0m\n\u001b[1;32m      7\u001b[0m         \u001b[0;32mfor\u001b[0m \u001b[0mj\u001b[0m \u001b[0;32min\u001b[0m \u001b[0mrange\u001b[0m\u001b[0;34m(\u001b[0m\u001b[0mlen\u001b[0m\u001b[0;34m(\u001b[0m\u001b[0mintermediate_outputs\u001b[0m\u001b[0;34m)\u001b[0m\u001b[0;34m)\u001b[0m\u001b[0;34m:\u001b[0m\u001b[0;34m\u001b[0m\u001b[0;34m\u001b[0m\u001b[0m\n\u001b[0;32m----> 8\u001b[0;31m             \u001b[0mcka_score\u001b[0m \u001b[0;34m=\u001b[0m \u001b[0mcalculate_CKA_for_two_matrices\u001b[0m\u001b[0;34m(\u001b[0m\u001b[0mintermediate_outputs\u001b[0m\u001b[0;34m[\u001b[0m\u001b[0mi\u001b[0m\u001b[0;34m]\u001b[0m\u001b[0;34m,\u001b[0m \u001b[0mintermediate_outputs\u001b[0m\u001b[0;34m[\u001b[0m\u001b[0mj\u001b[0m\u001b[0;34m]\u001b[0m\u001b[0;34m)\u001b[0m\u001b[0;34m\u001b[0m\u001b[0;34m\u001b[0m\u001b[0m\n\u001b[0m\u001b[1;32m      9\u001b[0m             \u001b[0mresult_array\u001b[0m\u001b[0;34m[\u001b[0m\u001b[0mi\u001b[0m\u001b[0;34m,\u001b[0m \u001b[0mj\u001b[0m\u001b[0;34m]\u001b[0m \u001b[0;34m=\u001b[0m \u001b[0mcka_score\u001b[0m\u001b[0;34m[\u001b[0m\u001b[0;36m0\u001b[0m\u001b[0;34m]\u001b[0m\u001b[0;34m/\u001b[0m\u001b[0mtorch\u001b[0m\u001b[0;34m.\u001b[0m\u001b[0msqrt\u001b[0m\u001b[0;34m(\u001b[0m\u001b[0mcka_score\u001b[0m\u001b[0;34m[\u001b[0m\u001b[0;36m1\u001b[0m\u001b[0;34m]\u001b[0m\u001b[0;34m*\u001b[0m\u001b[0mcka_score\u001b[0m\u001b[0;34m[\u001b[0m\u001b[0;36m2\u001b[0m\u001b[0;34m]\u001b[0m\u001b[0;34m)\u001b[0m\u001b[0;34m\u001b[0m\u001b[0;34m\u001b[0m\u001b[0m\n\u001b[1;32m     10\u001b[0m   \u001b[0;32mreturn\u001b[0m \u001b[0mresult_array\u001b[0m\u001b[0;34m\u001b[0m\u001b[0;34m\u001b[0m\u001b[0m\n",
            "\u001b[0;32m<ipython-input-6-5ead399802f2>\u001b[0m in \u001b[0;36mcalculate_CKA_for_two_matrices\u001b[0;34m(activationA, activationB)\u001b[0m\n\u001b[1;32m     31\u001b[0m \u001b[0;34m\u001b[0m\u001b[0m\n\u001b[1;32m     32\u001b[0m   \u001b[0;31m#calculate the CKA score\u001b[0m\u001b[0;34m\u001b[0m\u001b[0;34m\u001b[0m\u001b[0m\n\u001b[0;32m---> 33\u001b[0;31m   \u001b[0mcka_score\u001b[0m \u001b[0;34m=\u001b[0m \u001b[0mCKA_unbiased\u001b[0m\u001b[0;34m(\u001b[0m\u001b[0mactivationA\u001b[0m\u001b[0;34m,\u001b[0m \u001b[0mactivationB\u001b[0m\u001b[0;34m)\u001b[0m\u001b[0;34m\u001b[0m\u001b[0;34m\u001b[0m\u001b[0m\n\u001b[0m\u001b[1;32m     34\u001b[0m \u001b[0;34m\u001b[0m\u001b[0m\n\u001b[1;32m     35\u001b[0m   \u001b[0;32mreturn\u001b[0m \u001b[0mcka_score\u001b[0m\u001b[0;34m\u001b[0m\u001b[0;34m\u001b[0m\u001b[0m\n",
            "\u001b[0;32m<ipython-input-5-6f53bacef4c4>\u001b[0m in \u001b[0;36mCKA_unbiased\u001b[0;34m(X, Y)\u001b[0m\n\u001b[1;32m     13\u001b[0m \u001b[0;34m\u001b[0m\u001b[0m\n\u001b[1;32m     14\u001b[0m   \u001b[0mnominator\u001b[0m \u001b[0;34m=\u001b[0m \u001b[0munbiased_HSIC\u001b[0m\u001b[0;34m(\u001b[0m\u001b[0mX_gram\u001b[0m\u001b[0;34m,\u001b[0m \u001b[0mY_gram\u001b[0m\u001b[0;34m)\u001b[0m\u001b[0;34m\u001b[0m\u001b[0;34m\u001b[0m\u001b[0m\n\u001b[0;32m---> 15\u001b[0;31m   \u001b[0mdenominator1\u001b[0m \u001b[0;34m=\u001b[0m \u001b[0munbiased_HSIC\u001b[0m\u001b[0;34m(\u001b[0m\u001b[0mX_gram\u001b[0m\u001b[0;34m,\u001b[0m \u001b[0mX_gram\u001b[0m\u001b[0;34m)\u001b[0m\u001b[0;34m\u001b[0m\u001b[0;34m\u001b[0m\u001b[0m\n\u001b[0m\u001b[1;32m     16\u001b[0m   \u001b[0mdenominator2\u001b[0m \u001b[0;34m=\u001b[0m \u001b[0munbiased_HSIC\u001b[0m\u001b[0;34m(\u001b[0m\u001b[0mY_gram\u001b[0m\u001b[0;34m,\u001b[0m \u001b[0mY_gram\u001b[0m\u001b[0;34m)\u001b[0m\u001b[0;34m\u001b[0m\u001b[0;34m\u001b[0m\u001b[0m\n\u001b[1;32m     17\u001b[0m \u001b[0;34m\u001b[0m\u001b[0m\n",
            "\u001b[0;32m<ipython-input-4-84cbc827dd93>\u001b[0m in \u001b[0;36munbiased_HSIC\u001b[0;34m(K, L)\u001b[0m\n\u001b[1;32m     30\u001b[0m   \u001b[0ml_t\u001b[0m \u001b[0;34m=\u001b[0m \u001b[0mL\u001b[0m\u001b[0;34m.\u001b[0m\u001b[0mfill_diagonal_\u001b[0m\u001b[0;34m(\u001b[0m\u001b[0;36m0\u001b[0m\u001b[0;34m)\u001b[0m \u001b[0;31m#this is now L_tilde\u001b[0m\u001b[0;34m\u001b[0m\u001b[0;34m\u001b[0m\u001b[0m\n\u001b[1;32m     31\u001b[0m \u001b[0;34m\u001b[0m\u001b[0m\n\u001b[0;32m---> 32\u001b[0;31m   \u001b[0mtemp\u001b[0m \u001b[0;34m=\u001b[0m \u001b[0mtorch\u001b[0m\u001b[0;34m.\u001b[0m\u001b[0mmatmul\u001b[0m\u001b[0;34m(\u001b[0m\u001b[0mk_t\u001b[0m\u001b[0;34m.\u001b[0m\u001b[0mclone\u001b[0m\u001b[0;34m(\u001b[0m\u001b[0;34m)\u001b[0m\u001b[0;34m,\u001b[0m \u001b[0ml_t\u001b[0m\u001b[0;34m.\u001b[0m\u001b[0mclone\u001b[0m\u001b[0;34m(\u001b[0m\u001b[0;34m)\u001b[0m\u001b[0;34m)\u001b[0m\u001b[0;34m\u001b[0m\u001b[0;34m\u001b[0m\u001b[0m\n\u001b[0m\u001b[1;32m     33\u001b[0m \u001b[0;34m\u001b[0m\u001b[0m\n\u001b[1;32m     34\u001b[0m   \u001b[0mtrace\u001b[0m \u001b[0;34m=\u001b[0m \u001b[0mtorch\u001b[0m\u001b[0;34m.\u001b[0m\u001b[0mtrace\u001b[0m\u001b[0;34m(\u001b[0m\u001b[0mtemp\u001b[0m\u001b[0;34m)\u001b[0m\u001b[0;34m\u001b[0m\u001b[0;34m\u001b[0m\u001b[0m\n",
            "\u001b[0;31mKeyboardInterrupt\u001b[0m: "
          ]
        },
        {
          "output_type": "display_data",
          "data": {
            "image/png": "[encoded data removed]",
            "text/plain": [
              "<Figure size 400x400 with 1 Axes>"
            ]
          },
          "metadata": {}
        },
        {
          "output_type": "display_data",
          "data": {
            "image/png": "[encoded data removed]",
            "text/plain": [
              "<Figure size 400x400 with 1 Axes>"
            ]
          },
          "metadata": {}
        },
        {
          "output_type": "display_data",
          "data": {
            "image/png": "[encoded data removed]",
            "text/plain": [
              "<Figure size 400x400 with 1 Axes>"
            ]
          },
          "metadata": {}
        },
        {
          "output_type": "display_data",
          "data": {
            "image/png": "[encoded data removed]",
            "text/plain": [
              "<Figure size 400x400 with 1 Axes>"
            ]
          },
          "metadata": {}
        },
        {
          "output_type": "display_data",
          "data": {
            "image/png": "[encoded data removed]",
            "text/plain": [
              "<Figure size 400x400 with 1 Axes>"
            ]
          },
          "metadata": {}
        },
        {
          "output_type": "display_data",
          "data": {
            "image/png": "[encoded data removed]",
            "text/plain": [
              "<Figure size 400x400 with 1 Axes>"
            ]
          },
          "metadata": {}
        },
        {
          "output_type": "display_data",
          "data": {
            "image/png": "[encoded data removed]",
            "text/plain": [
              "<Figure size 400x400 with 1 Axes>"
            ]
          },
          "metadata": {}
        },
        {
          "output_type": "display_data",
          "data": {
            "image/png": "[encoded data removed]",
            "text/plain": [
              "<Figure size 400x400 with 1 Axes>"
            ]
          },
          "metadata": {}
        },
        {
          "output_type": "display_data",
          "data": {
            "image/png": "[encoded data removed]",
            "text/plain": [
              "<Figure size 400x400 with 1 Axes>"
            ]
          },
          "metadata": {}
        },
        {
          "output_type": "display_data",
          "data": {
            "image/png": "[encoded data removed]",
            "text/plain": [
              "<Figure size 400x400 with 1 Axes>"
            ]
          },
          "metadata": {}
        },
        {
          "output_type": "display_data",
          "data": {
            "image/png": "[encoded data removed]",
            "text/plain": [
              "<Figure size 400x400 with 1 Axes>"
            ]
          },
          "metadata": {}
        },
        {
          "output_type": "display_data",
          "data": {
            "image/png": "[encoded data removed]",
            "text/plain": [
              "<Figure size 400x400 with 1 Axes>"
            ]
          },
          "metadata": {}
        },
        {
          "output_type": "display_data",
          "data": {
            "image/png": "[encoded data removed]",
            "text/plain": [
              "<Figure size 400x400 with 1 Axes>"
            ]
          },
          "metadata": {}
        },
        {
          "output_type": "display_data",
          "data": {
            "image/png": "[encoded data removed]",
            "text/plain": [
              "<Figure size 400x400 with 1 Axes>"
            ]
          },
          "metadata": {}
        }
      ],
      "metadata": {
        "id": "GCpI5AIy4n45",
        "colab": {
          "base_uri": "https://localhost:8080/",
          "height": 1000
        },
        "outputId": "0d2e1a97-5d0e-4804-d709-da453f69828d"
      }
    }
  ]
}
